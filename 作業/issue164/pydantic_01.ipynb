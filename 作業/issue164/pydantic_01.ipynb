{
 "cells": [
  {
   "cell_type": "code",
   "execution_count": 1,
   "metadata": {},
   "outputs": [
    {
     "name": "stdout",
     "output_type": "stream",
     "text": [
      "{\n",
      "    \"name\": \"Alice\",\n",
      "    \"age\": 30,\n",
      "    \"address\": {\n",
      "        \"street\": \"123 Main St\",\n",
      "        \"city\": \"Springfield\",\n",
      "        \"zipcode\": \"12345\"\n",
      "    },\n",
      "    \"projects\": [\n",
      "        {\n",
      "            \"name\": \"Project A\",\n",
      "            \"status\": \"completed\"\n",
      "        },\n",
      "        {\n",
      "            \"name\": \"Project B\",\n",
      "            \"status\": \"ongoing\"\n",
      "        }\n",
      "    ]\n",
      "}\n"
     ]
    }
   ],
   "source": [
    "with open(\"data.json\", \"r\") as data:\n",
    "    data = data.read()\n",
    "print(data)"
   ]
  },
  {
   "cell_type": "code",
   "execution_count": 8,
   "metadata": {},
   "outputs": [
    {
     "data": {
      "text/plain": [
       "'{\"name\":\"Alice\",\"age\":30,\"address\":{\"street\":\"123 Main St\",\"city\":\"Springfield\",\"zipcode\":\"12345\"},\"projects\":[{\"name\":\"Project A\",\"status\":\"completed\"},{\"name\":\"Project B\",\"status\":\"ongoing\"}]}'"
      ]
     },
     "execution_count": 8,
     "metadata": {},
     "output_type": "execute_result"
    }
   ],
   "source": [
    "from pydantic import BaseModel\n",
    "from typing import List\n",
    "\n",
    "class Project(BaseModel):\n",
    "    name: str\n",
    "    status: str\n",
    "\n",
    "class Address(BaseModel):\n",
    "    street: str\n",
    "    city: str\n",
    "    zipcode: str\n",
    "\n",
    "class Person(BaseModel):\n",
    "    name: str\n",
    "    age: int\n",
    "    address: Address\n",
    "    projects: List[Project]\n",
    "\n",
    "p_data=Person.model_validate_json(data)\n",
    "dict_p_data:dict=p_data.model_dump_json()\n",
    "dict_p_data"
   ]
  }
 ],
 "metadata": {
  "kernelspec": {
   "display_name": "venv1",
   "language": "python",
   "name": "python3"
  },
  "language_info": {
   "codemirror_mode": {
    "name": "ipython",
    "version": 3
   },
   "file_extension": ".py",
   "mimetype": "text/x-python",
   "name": "python",
   "nbconvert_exporter": "python",
   "pygments_lexer": "ipython3",
   "version": "3.10.14"
  }
 },
 "nbformat": 4,
 "nbformat_minor": 2
}
