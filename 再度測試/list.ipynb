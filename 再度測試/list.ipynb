{
 "cells": [
  {
   "cell_type": "code",
   "execution_count": 1,
   "metadata": {},
   "outputs": [
    {
     "name": "stdout",
     "output_type": "stream",
     "text": [
      "['robert', 78, 92, 65]\n",
      "['jenny', 65, 96, 72]\n",
      "['alice', 85, 72, 95]\n"
     ]
    }
   ],
   "source": [
    "def display_students(students: list[list]):\n",
    "    for student in students:\n",
    "        print(student)\n",
    "\n",
    "students: list[list] = [\n",
    "    ['robert', 78, 92, 65],\n",
    "    ['jenny', 65, 96, 72],\n",
    "    ['alice', 85, 72, 95]\n",
    "]\n",
    "\n",
    "display_students(students)\n"
   ]
  }
 ],
 "metadata": {
  "kernelspec": {
   "display_name": "venv1",
   "language": "python",
   "name": "python3"
  },
  "language_info": {
   "codemirror_mode": {
    "name": "ipython",
    "version": 3
   },
   "file_extension": ".py",
   "mimetype": "text/x-python",
   "name": "python",
   "nbconvert_exporter": "python",
   "pygments_lexer": "ipython3",
   "version": "3.10.14"
  }
 },
 "nbformat": 4,
 "nbformat_minor": 2
}
